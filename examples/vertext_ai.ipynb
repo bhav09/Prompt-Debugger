{
 "cells": [
  {
   "cell_type": "code",
   "execution_count": 1,
   "metadata": {},
   "outputs": [],
   "source": [
    "# !pip3 install \"google-cloud-aiplatform>=1.38\""
   ]
  },
  {
   "cell_type": "code",
   "execution_count": 2,
   "metadata": {},
   "outputs": [],
   "source": [
    "# Importing files\n",
    "import vertexai\n",
    "from vertexai.generative_models import GenerativeModel\n",
    "import json\n",
    "\n",
    "# Reading credentials\n",
    "file = open('credentials.json', 'r')\n",
    "creds = json.load(file)"
   ]
  },
  {
   "cell_type": "code",
   "execution_count": 3,
   "metadata": {},
   "outputs": [
    {
     "name": "stdout",
     "output_type": "stream",
     "text": [
      "Here are some good names for a flower shop specializing in dried flowers, categorized by style:\n",
      "\n",
      "**Elegant & Romantic:**\n",
      "\n",
      "* Bloom & Bloom\n",
      "* Everlasting Blooms\n",
      "* The Dried Flower Garden\n",
      "* Petal & Stem\n",
      "* Whispers of Wildflowers\n",
      "\n",
      "**Modern & Minimalist:**\n",
      "\n",
      "* Paper & Petal\n",
      "* Bloom Co.\n",
      "* Wild & Free Flowers\n",
      "* The Dried Florist\n",
      "* Botanicals\n",
      "\n",
      "**Unique & Playful:**\n",
      "\n",
      "* Forever Flowers\n",
      "* The Flower Press\n",
      "* The Bloom Bar\n",
      "* Dried & Lovely\n",
      "* Botanical Boutique\n",
      "\n",
      "**Location-Inspired:**\n",
      "\n",
      "* [Your City] Dried Flowers\n",
      "* [Your Neighborhood] Blooms\n",
      "* [Your Street] Florals\n",
      "\n",
      "**Tips for choosing a name:**\n",
      "\n",
      "* **Keep it short and memorable.**\n",
      "* **Use words that evoke the feeling of dried flowers.**\n",
      "* **Consider your target audience and their style.**\n",
      "* **Make sure the name is available as a domain name and social media handle.**\n",
      "* **Get feedback from friends and family.**\n",
      "\n",
      "Ultimately, the best name for your flower shop is one that you love and that accurately reflects your brand. Good luck! \n",
      "\n"
     ]
    }
   ],
   "source": [
    "# TODO(developer): Update and un-comment below line\n",
    "project_id = creds['project_id']\n",
    "\n",
    "vertexai.init(project=project_id, location=\"us-central1\")\n",
    "\n",
    "model = GenerativeModel(model_name=\"gemini-1.5-flash-001\")\n",
    "\n",
    "response = model.generate_content(\n",
    "    \"What's a good name for a flower shop that specializes in selling bouquets of dried flowers?\"\n",
    ")\n",
    "\n",
    "print(response.text)"
   ]
  },
  {
   "cell_type": "code",
   "execution_count": null,
   "metadata": {},
   "outputs": [],
   "source": []
  }
 ],
 "metadata": {
  "kernelspec": {
   "display_name": "Python 3",
   "language": "python",
   "name": "python3"
  },
  "language_info": {
   "codemirror_mode": {
    "name": "ipython",
    "version": 3
   },
   "file_extension": ".py",
   "mimetype": "text/x-python",
   "name": "python",
   "nbconvert_exporter": "python",
   "pygments_lexer": "ipython3",
   "version": "3.11.8"
  }
 },
 "nbformat": 4,
 "nbformat_minor": 2
}
